{
 "cells": [
  {
   "attachments": {},
   "cell_type": "markdown",
   "id": "93863941-fcd9-4cd4-a0cf-38e20f8279a5",
   "metadata": {},
   "source": [
    "<h1 style=\"text-align: center;\">\n",
    "<img src=\"ChatGPT Image Aug 6, 2025, 01_30_35 PM.png\" alt=\"drawing\" width=\"400\"/>\n",
    "</h1>"
   ]
  },
  {
   "cell_type": "markdown",
   "id": "a762b7d4-21ac-4b39-b7e7-f57908b3718e",
   "metadata": {},
   "source": [
    "---\n",
    "\n",
    "<h1 style=\"text-align: center;\">\n",
    "    <font size=\"+2\" color=\"blue\">\n",
    "        Classification of Aerosol using Machine Learning\n",
    "    </font>\n",
    "</h1>\n",
    "\n",
    "\n",
    "\n",
    "<h5 style=\"text-align: center;\">\n",
    "by Jeffrey Lee, Jessie Zhang, and Willem Kroese\n",
    "</h5>\n",
    "\n",
    "---"
   ]
  },
  {
   "cell_type": "markdown",
   "id": "927a9091-b48d-4d44-ae6f-c948a24f9d39",
   "metadata": {},
   "source": [
    "Table of contents: (for reference, we'll delete this tomorrow)\n",
    "\n",
    " - Introduction\n",
    "    - why do we need to classify aerosol?\n",
    "    - show some global map?\n",
    " - PCA / k-means\n",
    "     - didn't work well\n",
    " - Variational autoencoder\n",
    "     - show space\n",
    "     - show cases\n",
    " - "
   ]
  },
  {
   "cell_type": "markdown",
   "id": "320151cd-bba7-4920-88a3-ab94b55f86f3",
   "metadata": {},
   "source": [
    "lorem ipsum"
   ]
  },
  {
   "cell_type": "markdown",
   "id": "5c6dcd22-a21d-4ab8-8a6a-8a74ed471e04",
   "metadata": {},
   "source": [
    "<h2 style=\"text-align: center;\">\n",
    "    <font size=\"+2\" color=\"blue\">\n",
    "        Introduction and dataset\n",
    "    </font>\n",
    "</h2>"
   ]
  },
  {
   "cell_type": "markdown",
   "id": "9176d9fc-ff81-42b2-943a-67d2fe1d32e3",
   "metadata": {},
   "source": [
    "lorem ipsum"
   ]
  },
  {
   "cell_type": "code",
   "execution_count": null,
   "id": "3fec9693-0101-43a3-b10b-bbedd9503571",
   "metadata": {},
   "outputs": [],
   "source": [
    "def _():\n",
    "\n",
    "    return"
   ]
  },
  {
   "cell_type": "code",
   "execution_count": null,
   "id": "f8ba1f24-fbde-45e3-a552-a95394814684",
   "metadata": {},
   "outputs": [],
   "source": [
    "import"
   ]
  },
  {
   "cell_type": "markdown",
   "id": "4111ce70-a9d9-4e34-b058-42bbe92af624",
   "metadata": {},
   "source": [
    "<h2 style=\"text-align: center;\">\n",
    "    <font size=\"+2\" color=\"blue\">\n",
    "        PCA and k-means\n",
    "    </font>\n",
    "</h2>"
   ]
  },
  {
   "cell_type": "markdown",
   "id": "e3dcaa87-4c15-4a77-86b6-7ffbea4dc9df",
   "metadata": {},
   "source": [
    "lorem ipsum"
   ]
  },
  {
   "cell_type": "code",
   "execution_count": null,
   "id": "e3b0e27a-7c12-4638-aa5c-3462310d4fd9",
   "metadata": {},
   "outputs": [],
   "source": [
    "def _():\n",
    "\n",
    "    return"
   ]
  },
  {
   "cell_type": "markdown",
   "id": "48c7dd1b-1fc7-437c-abe8-5f1295380373",
   "metadata": {},
   "source": [
    "<h2 style=\"text-align: center;\">\n",
    "    <font size=\"+2\" color=\"blue\">\n",
    "        Variational Autoencoder\n",
    "    </font>\n",
    "</h2>"
   ]
  },
  {
   "cell_type": "markdown",
   "id": "4cf37a81-9c24-44c8-8064-38e6cc6a4d69",
   "metadata": {},
   "source": [
    "lorem ipsum"
   ]
  },
  {
   "cell_type": "code",
   "execution_count": null,
   "id": "77b58501-f015-4813-9ab3-74bc9c3fd115",
   "metadata": {},
   "outputs": [],
   "source": [
    "def _():\n",
    "\n",
    "    return"
   ]
  }
 ],
 "metadata": {
  "kernelspec": {
   "display_name": "Python 3 (ipykernel)",
   "language": "python",
   "name": "python3"
  },
  "language_info": {
   "codemirror_mode": {
    "name": "ipython",
    "version": 3
   },
   "file_extension": ".py",
   "mimetype": "text/x-python",
   "name": "python",
   "nbconvert_exporter": "python",
   "pygments_lexer": "ipython3",
   "version": "3.11.11"
  }
 },
 "nbformat": 4,
 "nbformat_minor": 5
}
